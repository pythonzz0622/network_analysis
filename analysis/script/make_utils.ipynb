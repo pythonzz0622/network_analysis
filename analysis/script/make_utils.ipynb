{
 "cells": [
  {
   "cell_type": "code",
   "execution_count": 1,
   "metadata": {
    "pycharm": {
     "name": "#%%\n"
    }
   },
   "outputs": [
    {
     "data": {
      "text/plain": [
       "<Figure size 720x720 with 0 Axes>"
      ]
     },
     "metadata": {},
     "output_type": "display_data"
    },
    {
     "data": {
      "text/plain": [
       "<Figure size 720x720 with 0 Axes>"
      ]
     },
     "metadata": {},
     "output_type": "display_data"
    },
    {
     "data": {
      "text/plain": [
       "<Figure size 720x720 with 0 Axes>"
      ]
     },
     "metadata": {},
     "output_type": "display_data"
    },
    {
     "data": {
      "text/plain": [
       "<Figure size 720x720 with 0 Axes>"
      ]
     },
     "metadata": {},
     "output_type": "display_data"
    },
    {
     "data": {
      "text/plain": [
       "<Figure size 720x720 with 0 Axes>"
      ]
     },
     "metadata": {},
     "output_type": "display_data"
    }
   ],
   "source": [
    "import util\n",
    "import plotly.graph_objects as go\n",
    "import networkx as nx\n",
    "import igviz as ig\n",
    "import numpy as np\n",
    "cnt , w, _ , _ = util.get_data()"
   ]
  },
  {
   "cell_type": "code",
   "execution_count": 2,
   "metadata": {
    "pycharm": {
     "name": "#%%\n"
    }
   },
   "outputs": [
    {
     "data": {
      "text/plain": [
       "([('부국정밀', '정민기전'),\n",
       "  ('탑전자', '정민기전'),\n",
       "  ('포스텍', '정민기전'),\n",
       "  ('상신전자', '정민기전'),\n",
       "  ('유니솔렉', '포스텍'),\n",
       "  ('디엘테크', '포스텍'),\n",
       "  ('정민기전', '포스텍')],\n",
       " [6.0, 7.5, 10.5, 9.0, 4.5, 3.0, 1.5])"
      ]
     },
     "execution_count": 2,
     "metadata": {},
     "output_type": "execute_result"
    }
   ],
   "source": [
    "cnt , w"
   ]
  },
  {
   "cell_type": "code",
   "execution_count": 3,
   "metadata": {
    "pycharm": {
     "name": "#%%\n"
    }
   },
   "outputs": [
    {
     "name": "stderr",
     "output_type": "stream",
     "text": [
      "/var/folders/_g/4c6_v3r92pn_jbvkjsw3464w0000gn/T/ipykernel_60961/2938384833.py:16: DeprecationWarning: Argument `titlefont_size` is deprecated and will be removed in 0.6.0.\n",
      "  ig.plot(G, size_method=\"static\")\n"
     ]
    },
    {
     "data": {
      "application/vnd.jupyter.widget-view+json": {
       "model_id": "d1590881ab454d8dbe653b0f73d2c5f7",
       "version_major": 2,
       "version_minor": 0
      },
      "text/plain": [
       "FigureWidget({\n",
       "    'data': [{'hoverinfo': 'text',\n",
       "              'line': {'color': '#888', 'width': 1},\n",
       "       …"
      ]
     },
     "metadata": {},
     "output_type": "display_data"
    }
   ],
   "source": [
    "data_list = []\n",
    "for cn in  cnt:\n",
    "    data_list.append(cn[0])\n",
    "    data_list.append(cn[1])\n",
    "data_list = list(set(data_list))\n",
    "\n",
    "G = nx.DiGraph()\n",
    "\n",
    "# Add nodes:\n",
    "nodes = ['부국정밀', '정민기전', '탑전자', '포스텍', '상신전자', '유니솔렉', '디엘테크']\n",
    "G.add_nodes_from(nodes)\n",
    "\n",
    "# Add edges or links between the nodes:\n",
    "edges = cnt\n",
    "G.add_edges_from(edges)\n",
    "ig.plot(G, size_method=\"static\")"
   ]
  },
  {
   "cell_type": "code",
   "execution_count": 4,
   "metadata": {
    "pycharm": {
     "name": "#%%\n"
    }
   },
   "outputs": [
    {
     "data": {
      "text/plain": [
       "{'pos': array([0.16938163, 0.6604147 ], dtype=float32)}"
      ]
     },
     "execution_count": 4,
     "metadata": {},
     "output_type": "execute_result"
    }
   ],
   "source": [
    "G.nodes[next(iter(G.edges()))[1]]"
   ]
  },
  {
   "cell_type": "code",
   "execution_count": 18,
   "metadata": {
    "pycharm": {
     "name": "#%%\n"
    }
   },
   "outputs": [],
   "source": [
    "#### make edge\n",
    "edge_x = []\n",
    "edge_y = []\n",
    "annotation_list = []\n",
    "for i , edge in enumerate(G.edges()):\n",
    "    x0, y0 = G.nodes[edge[0]]['pos']\n",
    "    x1, y1 = G.nodes[edge[1]]['pos']\n",
    "    edge_x.append(x0)\n",
    "    edge_x.append(x1)\n",
    "    edge_x.append(None)\n",
    "    edge_y.append(y0)\n",
    "    edge_y.append(y1)\n",
    "    edge_y.append(None)\n",
    "\n",
    "    annotation_list.append(\n",
    "        dict(\n",
    "            ax=G.nodes[edge[0]][\"pos\"][0],\n",
    "            ay=G.nodes[edge[0]][\"pos\"][1],\n",
    "            axref=\"x\",\n",
    "            ayref=\"y\",\n",
    "            x=G.nodes[edge[1]][\"pos\"][0] * 0.85\n",
    "            + G.nodes[edge[0]][\"pos\"][0] * 0.15,\n",
    "            y=G.nodes[edge[1]][\"pos\"][1] * 0.85\n",
    "            + G.nodes[edge[0]][\"pos\"][1] * 0.15,\n",
    "            xref=\"x\",\n",
    "            yref=\"y\",\n",
    "            showarrow=True,\n",
    "            arrowhead=3,\n",
    "            arrowsize=w[i] * 0.3\n",
    "            )\n",
    "      )\n",
    "\n",
    "x_link = np.array(edge_x).reshape(-1 , 3).tolist()\n",
    "y_link = np.array(edge_y).reshape(-1 , 3).tolist()\n",
    "\n",
    "# make multiple traces\n",
    "edge_traces=[]\n",
    "for i in range(0, len(x_link)):\n",
    "    edge_traces.append(\n",
    "        go.Scatter(x = x_link[i],\n",
    "                   y = y_link[i],\n",
    "                   line=dict(\n",
    "                       color='#4c72b0',\n",
    "                        width=w[i] * 0.5))\n",
    "                       )"
   ]
  },
  {
   "cell_type": "code",
   "execution_count": 58,
   "metadata": {
    "pycharm": {
     "name": "#%%\n"
    }
   },
   "outputs": [
    {
     "data": {
      "text/plain": [
       "Scatter({\n",
       "    'marker': {'color': [4, 5, 4, 4, 4, 4, 4],\n",
       "               'colorscale': [[0.0, 'rgb(255,255,217)'], [0.125,\n",
       "                              'rgb(237,248,177)'], [0.25, 'rgb(199,233,180)'],\n",
       "                              [0.375, 'rgb(127,205,187)'], [0.5,\n",
       "                              'rgb(65,182,196)'], [0.625, 'rgb(29,145,192)'],\n",
       "                              [0.75, 'rgb(34,94,168)'], [0.875, 'rgb(37,52,148)'],\n",
       "                              [1.0, 'rgb(8,29,88)']],\n",
       "               'line': {'width': 2},\n",
       "               'reversescale': True,\n",
       "               'size': [50, 70, 50, 50, 50, 50, 50]},\n",
       "    'mode': 'markers+text',\n",
       "    'text': [부국정밀, 정민기전, 탑전자, 포스텍, 상신전자, 유니솔렉, 디엘테크],\n",
       "    'textposition': 'top center',\n",
       "    'x': [0.6234790086746216, 0.16938163340091705, 0.6615851521492004,\n",
       "          0.3569490611553192, 0.7498952150344849, 0.27644118666648865,\n",
       "          0.32814574241638184],\n",
       "    'y': [0.8050630688667297, 0.6604146957397461, 0.01614898256957531,\n",
       "          0.6898478269577026, 0.16883276402950287, 0.2627755105495453,\n",
       "          0.1802838146686554]\n",
       "})"
      ]
     },
     "execution_count": 58,
     "metadata": {},
     "output_type": "execute_result"
    }
   ],
   "source": [
    "\n",
    "def get_node_trace(G):\n",
    "    node_x = []\n",
    "    node_y = []\n",
    "    for node in G.nodes():\n",
    "        x, y = G.nodes[node]['pos']\n",
    "        node_x.append(x)\n",
    "        node_y.append(y)\n",
    "\n",
    "    node_trace = go.Scatter(\n",
    "        x=node_x, y=node_y,\n",
    "        mode='markers+text',\n",
    "        marker=dict(\n",
    "            colorscale='YlGnBu',\n",
    "                    reversescale=True,\n",
    "            line_width=2)\n",
    "        , textposition=\"top center\"\n",
    "    )\n",
    "    node_adjacencies = []\n",
    "    node_text = []\n",
    "    node_size = []\n",
    "    for node, adjacencies in enumerate(G.adjacency()):\n",
    "        if adjacencies[0] == '정민기전':\n",
    "            node_adjacencies.append(5)\n",
    "            node_size.append(70)\n",
    "        else:\n",
    "            node_size.append(50)\n",
    "            node_adjacencies.append(4)\n",
    "        node_text.append(adjacencies[0])\n",
    "\n",
    "    node_trace['marker']['color'] = node_adjacencies\n",
    "    node_trace['text'] = node_text\n",
    "    node_trace['marker']['size'] = node_size\n",
    "\n",
    "    return node_trace\n",
    "\n",
    "node_trace = get_node_trace(G)\n",
    "node_trace"
   ]
  },
  {
   "cell_type": "code",
   "execution_count": 63,
   "metadata": {
    "pycharm": {
     "name": "#%%\n"
    },
    "scrolled": false
   },
   "outputs": [
    {
     "data": {
      "application/vnd.plotly.v1+json": {
       "config": {
        "plotlyServerURL": "https://plot.ly"
       },
       "data": [
        {
         "line": {
          "color": "#4c72b0",
          "width": 3
         },
         "type": "scatter",
         "x": [
          0.6234790086746216,
          0.16938163340091705,
          null
         ],
         "y": [
          0.8050630688667297,
          0.6604146957397461,
          null
         ]
        },
        {
         "line": {
          "color": "#4c72b0",
          "width": 3.75
         },
         "type": "scatter",
         "x": [
          0.16938163340091705,
          0.3569490611553192,
          null
         ],
         "y": [
          0.6604146957397461,
          0.6898478269577026,
          null
         ]
        },
        {
         "line": {
          "color": "#4c72b0",
          "width": 5.25
         },
         "type": "scatter",
         "x": [
          0.6615851521492004,
          0.16938163340091705,
          null
         ],
         "y": [
          0.01614898256957531,
          0.6604146957397461,
          null
         ]
        },
        {
         "line": {
          "color": "#4c72b0",
          "width": 4.5
         },
         "type": "scatter",
         "x": [
          0.3569490611553192,
          0.16938163340091705,
          null
         ],
         "y": [
          0.6898478269577026,
          0.6604146957397461,
          null
         ]
        },
        {
         "line": {
          "color": "#4c72b0",
          "width": 2.25
         },
         "type": "scatter",
         "x": [
          0.7498952150344849,
          0.16938163340091705,
          null
         ],
         "y": [
          0.16883276402950287,
          0.6604146957397461,
          null
         ]
        },
        {
         "line": {
          "color": "#4c72b0",
          "width": 1.5
         },
         "type": "scatter",
         "x": [
          0.27644118666648865,
          0.3569490611553192,
          null
         ],
         "y": [
          0.2627755105495453,
          0.6898478269577026,
          null
         ]
        },
        {
         "line": {
          "color": "#4c72b0",
          "width": 0.75
         },
         "type": "scatter",
         "x": [
          0.32814574241638184,
          0.3569490611553192,
          null
         ],
         "y": [
          0.1802838146686554,
          0.6898478269577026,
          null
         ]
        },
        {
         "marker": {
          "color": [
           4,
           5,
           4,
           4,
           4,
           4,
           4
          ],
          "colorscale": [
           [
            0,
            "rgb(255,255,217)"
           ],
           [
            0.125,
            "rgb(237,248,177)"
           ],
           [
            0.25,
            "rgb(199,233,180)"
           ],
           [
            0.375,
            "rgb(127,205,187)"
           ],
           [
            0.5,
            "rgb(65,182,196)"
           ],
           [
            0.625,
            "rgb(29,145,192)"
           ],
           [
            0.75,
            "rgb(34,94,168)"
           ],
           [
            0.875,
            "rgb(37,52,148)"
           ],
           [
            1,
            "rgb(8,29,88)"
           ]
          ],
          "line": {
           "width": 2
          },
          "reversescale": true,
          "size": [
           50,
           70,
           50,
           50,
           50,
           50,
           50
          ]
         },
         "mode": "markers+text",
         "text": [
          "부국정밀",
          "정민기전",
          "탑전자",
          "포스텍",
          "상신전자",
          "유니솔렉",
          "디엘테크"
         ],
         "textposition": "top center",
         "type": "scatter",
         "x": [
          0.6234790086746216,
          0.16938163340091705,
          0.6615851521492004,
          0.3569490611553192,
          0.7498952150344849,
          0.27644118666648865,
          0.32814574241638184
         ],
         "y": [
          0.8050630688667297,
          0.6604146957397461,
          0.01614898256957531,
          0.6898478269577026,
          0.16883276402950287,
          0.2627755105495453,
          0.1802838146686554
         ]
        }
       ],
       "layout": {
        "annotations": [
         {
          "arrowhead": 3,
          "arrowsize": 1.7999999999999998,
          "ax": 0.6234790086746216,
          "axref": "x",
          "ay": 0.8050630688667297,
          "ayref": "y",
          "showarrow": true,
          "x": 0.23749623969197275,
          "xref": "x",
          "y": 0.6821119517087937,
          "yref": "y"
         },
         {
          "arrowhead": 3,
          "arrowsize": 2.25,
          "ax": 0.16938163340091705,
          "axref": "x",
          "ay": 0.6604146957397461,
          "ayref": "y",
          "showarrow": true,
          "x": 0.3288139469921589,
          "xref": "x",
          "y": 0.6854328572750091,
          "yref": "y"
         },
         {
          "arrowhead": 3,
          "arrowsize": 3.15,
          "ax": 0.6615851521492004,
          "axref": "x",
          "ay": 0.01614898256957531,
          "ayref": "y",
          "showarrow": true,
          "x": 0.24321216121315958,
          "xref": "x",
          "y": 0.5637748387642205,
          "yref": "y"
         },
         {
          "arrowhead": 3,
          "arrowsize": 2.6999999999999997,
          "ax": 0.3569490611553192,
          "axref": "x",
          "ay": 0.6898478269577026,
          "ayref": "y",
          "showarrow": true,
          "x": 0.1975167475640774,
          "xref": "x",
          "y": 0.6648296654224396,
          "yref": "y"
         },
         {
          "arrowhead": 3,
          "arrowsize": 1.3499999999999999,
          "ax": 0.7498952150344849,
          "axref": "x",
          "ay": 0.16883276402950287,
          "ayref": "y",
          "showarrow": true,
          "x": 0.25645867064595224,
          "xref": "x",
          "y": 0.5866774059832096,
          "yref": "y"
         },
         {
          "arrowhead": 3,
          "arrowsize": 0.8999999999999999,
          "ax": 0.27644118666648865,
          "axref": "x",
          "ay": 0.2627755105495453,
          "ayref": "y",
          "showarrow": true,
          "x": 0.3448728799819946,
          "xref": "x",
          "y": 0.625786979496479,
          "yref": "y"
         },
         {
          "arrowhead": 3,
          "arrowsize": 0.44999999999999996,
          "ax": 0.32814574241638184,
          "axref": "x",
          "ay": 0.1802838146686554,
          "ayref": "y",
          "showarrow": true,
          "x": 0.35262856334447856,
          "xref": "x",
          "y": 0.6134132251143455,
          "yref": "y"
         }
        ],
        "margin": {
         "b": 20,
         "l": 5,
         "r": 5,
         "t": 40
        },
        "showlegend": false,
        "template": {
         "data": {
          "bar": [
           {
            "error_x": {
             "color": "#2a3f5f"
            },
            "error_y": {
             "color": "#2a3f5f"
            },
            "marker": {
             "line": {
              "color": "#E5ECF6",
              "width": 0.5
             },
             "pattern": {
              "fillmode": "overlay",
              "size": 10,
              "solidity": 0.2
             }
            },
            "type": "bar"
           }
          ],
          "barpolar": [
           {
            "marker": {
             "line": {
              "color": "#E5ECF6",
              "width": 0.5
             },
             "pattern": {
              "fillmode": "overlay",
              "size": 10,
              "solidity": 0.2
             }
            },
            "type": "barpolar"
           }
          ],
          "carpet": [
           {
            "aaxis": {
             "endlinecolor": "#2a3f5f",
             "gridcolor": "white",
             "linecolor": "white",
             "minorgridcolor": "white",
             "startlinecolor": "#2a3f5f"
            },
            "baxis": {
             "endlinecolor": "#2a3f5f",
             "gridcolor": "white",
             "linecolor": "white",
             "minorgridcolor": "white",
             "startlinecolor": "#2a3f5f"
            },
            "type": "carpet"
           }
          ],
          "choropleth": [
           {
            "colorbar": {
             "outlinewidth": 0,
             "ticks": ""
            },
            "type": "choropleth"
           }
          ],
          "contour": [
           {
            "colorbar": {
             "outlinewidth": 0,
             "ticks": ""
            },
            "colorscale": [
             [
              0,
              "#0d0887"
             ],
             [
              0.1111111111111111,
              "#46039f"
             ],
             [
              0.2222222222222222,
              "#7201a8"
             ],
             [
              0.3333333333333333,
              "#9c179e"
             ],
             [
              0.4444444444444444,
              "#bd3786"
             ],
             [
              0.5555555555555556,
              "#d8576b"
             ],
             [
              0.6666666666666666,
              "#ed7953"
             ],
             [
              0.7777777777777778,
              "#fb9f3a"
             ],
             [
              0.8888888888888888,
              "#fdca26"
             ],
             [
              1,
              "#f0f921"
             ]
            ],
            "type": "contour"
           }
          ],
          "contourcarpet": [
           {
            "colorbar": {
             "outlinewidth": 0,
             "ticks": ""
            },
            "type": "contourcarpet"
           }
          ],
          "heatmap": [
           {
            "colorbar": {
             "outlinewidth": 0,
             "ticks": ""
            },
            "colorscale": [
             [
              0,
              "#0d0887"
             ],
             [
              0.1111111111111111,
              "#46039f"
             ],
             [
              0.2222222222222222,
              "#7201a8"
             ],
             [
              0.3333333333333333,
              "#9c179e"
             ],
             [
              0.4444444444444444,
              "#bd3786"
             ],
             [
              0.5555555555555556,
              "#d8576b"
             ],
             [
              0.6666666666666666,
              "#ed7953"
             ],
             [
              0.7777777777777778,
              "#fb9f3a"
             ],
             [
              0.8888888888888888,
              "#fdca26"
             ],
             [
              1,
              "#f0f921"
             ]
            ],
            "type": "heatmap"
           }
          ],
          "heatmapgl": [
           {
            "colorbar": {
             "outlinewidth": 0,
             "ticks": ""
            },
            "colorscale": [
             [
              0,
              "#0d0887"
             ],
             [
              0.1111111111111111,
              "#46039f"
             ],
             [
              0.2222222222222222,
              "#7201a8"
             ],
             [
              0.3333333333333333,
              "#9c179e"
             ],
             [
              0.4444444444444444,
              "#bd3786"
             ],
             [
              0.5555555555555556,
              "#d8576b"
             ],
             [
              0.6666666666666666,
              "#ed7953"
             ],
             [
              0.7777777777777778,
              "#fb9f3a"
             ],
             [
              0.8888888888888888,
              "#fdca26"
             ],
             [
              1,
              "#f0f921"
             ]
            ],
            "type": "heatmapgl"
           }
          ],
          "histogram": [
           {
            "marker": {
             "pattern": {
              "fillmode": "overlay",
              "size": 10,
              "solidity": 0.2
             }
            },
            "type": "histogram"
           }
          ],
          "histogram2d": [
           {
            "colorbar": {
             "outlinewidth": 0,
             "ticks": ""
            },
            "colorscale": [
             [
              0,
              "#0d0887"
             ],
             [
              0.1111111111111111,
              "#46039f"
             ],
             [
              0.2222222222222222,
              "#7201a8"
             ],
             [
              0.3333333333333333,
              "#9c179e"
             ],
             [
              0.4444444444444444,
              "#bd3786"
             ],
             [
              0.5555555555555556,
              "#d8576b"
             ],
             [
              0.6666666666666666,
              "#ed7953"
             ],
             [
              0.7777777777777778,
              "#fb9f3a"
             ],
             [
              0.8888888888888888,
              "#fdca26"
             ],
             [
              1,
              "#f0f921"
             ]
            ],
            "type": "histogram2d"
           }
          ],
          "histogram2dcontour": [
           {
            "colorbar": {
             "outlinewidth": 0,
             "ticks": ""
            },
            "colorscale": [
             [
              0,
              "#0d0887"
             ],
             [
              0.1111111111111111,
              "#46039f"
             ],
             [
              0.2222222222222222,
              "#7201a8"
             ],
             [
              0.3333333333333333,
              "#9c179e"
             ],
             [
              0.4444444444444444,
              "#bd3786"
             ],
             [
              0.5555555555555556,
              "#d8576b"
             ],
             [
              0.6666666666666666,
              "#ed7953"
             ],
             [
              0.7777777777777778,
              "#fb9f3a"
             ],
             [
              0.8888888888888888,
              "#fdca26"
             ],
             [
              1,
              "#f0f921"
             ]
            ],
            "type": "histogram2dcontour"
           }
          ],
          "mesh3d": [
           {
            "colorbar": {
             "outlinewidth": 0,
             "ticks": ""
            },
            "type": "mesh3d"
           }
          ],
          "parcoords": [
           {
            "line": {
             "colorbar": {
              "outlinewidth": 0,
              "ticks": ""
             }
            },
            "type": "parcoords"
           }
          ],
          "pie": [
           {
            "automargin": true,
            "type": "pie"
           }
          ],
          "scatter": [
           {
            "fillpattern": {
             "fillmode": "overlay",
             "size": 10,
             "solidity": 0.2
            },
            "type": "scatter"
           }
          ],
          "scatter3d": [
           {
            "line": {
             "colorbar": {
              "outlinewidth": 0,
              "ticks": ""
             }
            },
            "marker": {
             "colorbar": {
              "outlinewidth": 0,
              "ticks": ""
             }
            },
            "type": "scatter3d"
           }
          ],
          "scattercarpet": [
           {
            "marker": {
             "colorbar": {
              "outlinewidth": 0,
              "ticks": ""
             }
            },
            "type": "scattercarpet"
           }
          ],
          "scattergeo": [
           {
            "marker": {
             "colorbar": {
              "outlinewidth": 0,
              "ticks": ""
             }
            },
            "type": "scattergeo"
           }
          ],
          "scattergl": [
           {
            "marker": {
             "colorbar": {
              "outlinewidth": 0,
              "ticks": ""
             }
            },
            "type": "scattergl"
           }
          ],
          "scattermapbox": [
           {
            "marker": {
             "colorbar": {
              "outlinewidth": 0,
              "ticks": ""
             }
            },
            "type": "scattermapbox"
           }
          ],
          "scatterpolar": [
           {
            "marker": {
             "colorbar": {
              "outlinewidth": 0,
              "ticks": ""
             }
            },
            "type": "scatterpolar"
           }
          ],
          "scatterpolargl": [
           {
            "marker": {
             "colorbar": {
              "outlinewidth": 0,
              "ticks": ""
             }
            },
            "type": "scatterpolargl"
           }
          ],
          "scatterternary": [
           {
            "marker": {
             "colorbar": {
              "outlinewidth": 0,
              "ticks": ""
             }
            },
            "type": "scatterternary"
           }
          ],
          "surface": [
           {
            "colorbar": {
             "outlinewidth": 0,
             "ticks": ""
            },
            "colorscale": [
             [
              0,
              "#0d0887"
             ],
             [
              0.1111111111111111,
              "#46039f"
             ],
             [
              0.2222222222222222,
              "#7201a8"
             ],
             [
              0.3333333333333333,
              "#9c179e"
             ],
             [
              0.4444444444444444,
              "#bd3786"
             ],
             [
              0.5555555555555556,
              "#d8576b"
             ],
             [
              0.6666666666666666,
              "#ed7953"
             ],
             [
              0.7777777777777778,
              "#fb9f3a"
             ],
             [
              0.8888888888888888,
              "#fdca26"
             ],
             [
              1,
              "#f0f921"
             ]
            ],
            "type": "surface"
           }
          ],
          "table": [
           {
            "cells": {
             "fill": {
              "color": "#EBF0F8"
             },
             "line": {
              "color": "white"
             }
            },
            "header": {
             "fill": {
              "color": "#C8D4E3"
             },
             "line": {
              "color": "white"
             }
            },
            "type": "table"
           }
          ]
         },
         "layout": {
          "annotationdefaults": {
           "arrowcolor": "#2a3f5f",
           "arrowhead": 0,
           "arrowwidth": 1
          },
          "autotypenumbers": "strict",
          "coloraxis": {
           "colorbar": {
            "outlinewidth": 0,
            "ticks": ""
           }
          },
          "colorscale": {
           "diverging": [
            [
             0,
             "#8e0152"
            ],
            [
             0.1,
             "#c51b7d"
            ],
            [
             0.2,
             "#de77ae"
            ],
            [
             0.3,
             "#f1b6da"
            ],
            [
             0.4,
             "#fde0ef"
            ],
            [
             0.5,
             "#f7f7f7"
            ],
            [
             0.6,
             "#e6f5d0"
            ],
            [
             0.7,
             "#b8e186"
            ],
            [
             0.8,
             "#7fbc41"
            ],
            [
             0.9,
             "#4d9221"
            ],
            [
             1,
             "#276419"
            ]
           ],
           "sequential": [
            [
             0,
             "#0d0887"
            ],
            [
             0.1111111111111111,
             "#46039f"
            ],
            [
             0.2222222222222222,
             "#7201a8"
            ],
            [
             0.3333333333333333,
             "#9c179e"
            ],
            [
             0.4444444444444444,
             "#bd3786"
            ],
            [
             0.5555555555555556,
             "#d8576b"
            ],
            [
             0.6666666666666666,
             "#ed7953"
            ],
            [
             0.7777777777777778,
             "#fb9f3a"
            ],
            [
             0.8888888888888888,
             "#fdca26"
            ],
            [
             1,
             "#f0f921"
            ]
           ],
           "sequentialminus": [
            [
             0,
             "#0d0887"
            ],
            [
             0.1111111111111111,
             "#46039f"
            ],
            [
             0.2222222222222222,
             "#7201a8"
            ],
            [
             0.3333333333333333,
             "#9c179e"
            ],
            [
             0.4444444444444444,
             "#bd3786"
            ],
            [
             0.5555555555555556,
             "#d8576b"
            ],
            [
             0.6666666666666666,
             "#ed7953"
            ],
            [
             0.7777777777777778,
             "#fb9f3a"
            ],
            [
             0.8888888888888888,
             "#fdca26"
            ],
            [
             1,
             "#f0f921"
            ]
           ]
          },
          "colorway": [
           "#636efa",
           "#EF553B",
           "#00cc96",
           "#ab63fa",
           "#FFA15A",
           "#19d3f3",
           "#FF6692",
           "#B6E880",
           "#FF97FF",
           "#FECB52"
          ],
          "font": {
           "color": "#2a3f5f"
          },
          "geo": {
           "bgcolor": "white",
           "lakecolor": "white",
           "landcolor": "#E5ECF6",
           "showlakes": true,
           "showland": true,
           "subunitcolor": "white"
          },
          "hoverlabel": {
           "align": "left"
          },
          "hovermode": "closest",
          "mapbox": {
           "style": "light"
          },
          "paper_bgcolor": "white",
          "plot_bgcolor": "#E5ECF6",
          "polar": {
           "angularaxis": {
            "gridcolor": "white",
            "linecolor": "white",
            "ticks": ""
           },
           "bgcolor": "#E5ECF6",
           "radialaxis": {
            "gridcolor": "white",
            "linecolor": "white",
            "ticks": ""
           }
          },
          "scene": {
           "xaxis": {
            "backgroundcolor": "#E5ECF6",
            "gridcolor": "white",
            "gridwidth": 2,
            "linecolor": "white",
            "showbackground": true,
            "ticks": "",
            "zerolinecolor": "white"
           },
           "yaxis": {
            "backgroundcolor": "#E5ECF6",
            "gridcolor": "white",
            "gridwidth": 2,
            "linecolor": "white",
            "showbackground": true,
            "ticks": "",
            "zerolinecolor": "white"
           },
           "zaxis": {
            "backgroundcolor": "#E5ECF6",
            "gridcolor": "white",
            "gridwidth": 2,
            "linecolor": "white",
            "showbackground": true,
            "ticks": "",
            "zerolinecolor": "white"
           }
          },
          "shapedefaults": {
           "line": {
            "color": "#2a3f5f"
           }
          },
          "ternary": {
           "aaxis": {
            "gridcolor": "white",
            "linecolor": "white",
            "ticks": ""
           },
           "baxis": {
            "gridcolor": "white",
            "linecolor": "white",
            "ticks": ""
           },
           "bgcolor": "#E5ECF6",
           "caxis": {
            "gridcolor": "white",
            "linecolor": "white",
            "ticks": ""
           }
          },
          "title": {
           "x": 0.05
          },
          "xaxis": {
           "automargin": true,
           "gridcolor": "white",
           "linecolor": "white",
           "ticks": "",
           "title": {
            "standoff": 15
           },
           "zerolinecolor": "white",
           "zerolinewidth": 2
          },
          "yaxis": {
           "automargin": true,
           "gridcolor": "white",
           "linecolor": "white",
           "ticks": "",
           "title": {
            "standoff": 15
           },
           "zerolinecolor": "white",
           "zerolinewidth": 2
          }
         }
        },
        "title": {
         "font": {
          "size": 16
         },
         "text": "정민기전 vs all"
        },
        "xaxis": {
         "showgrid": true,
         "showticklabels": false,
         "zeroline": false
        },
        "yaxis": {
         "showgrid": true,
         "showticklabels": false,
         "zeroline": false
        }
       }
      },
      "text/html": [
       "<div>                            <div id=\"b53b84d0-50a0-409a-8010-210c53abd6b6\" class=\"plotly-graph-div\" style=\"height:525px; width:100%;\"></div>            <script type=\"text/javascript\">                require([\"plotly\"], function(Plotly) {                    window.PLOTLYENV=window.PLOTLYENV || {};                                    if (document.getElementById(\"b53b84d0-50a0-409a-8010-210c53abd6b6\")) {                    Plotly.newPlot(                        \"b53b84d0-50a0-409a-8010-210c53abd6b6\",                        [{\"line\":{\"color\":\"#4c72b0\",\"width\":3.0},\"x\":[0.6234790086746216,0.16938163340091705,null],\"y\":[0.8050630688667297,0.6604146957397461,null],\"type\":\"scatter\"},{\"line\":{\"color\":\"#4c72b0\",\"width\":3.75},\"x\":[0.16938163340091705,0.3569490611553192,null],\"y\":[0.6604146957397461,0.6898478269577026,null],\"type\":\"scatter\"},{\"line\":{\"color\":\"#4c72b0\",\"width\":5.25},\"x\":[0.6615851521492004,0.16938163340091705,null],\"y\":[0.01614898256957531,0.6604146957397461,null],\"type\":\"scatter\"},{\"line\":{\"color\":\"#4c72b0\",\"width\":4.5},\"x\":[0.3569490611553192,0.16938163340091705,null],\"y\":[0.6898478269577026,0.6604146957397461,null],\"type\":\"scatter\"},{\"line\":{\"color\":\"#4c72b0\",\"width\":2.25},\"x\":[0.7498952150344849,0.16938163340091705,null],\"y\":[0.16883276402950287,0.6604146957397461,null],\"type\":\"scatter\"},{\"line\":{\"color\":\"#4c72b0\",\"width\":1.5},\"x\":[0.27644118666648865,0.3569490611553192,null],\"y\":[0.2627755105495453,0.6898478269577026,null],\"type\":\"scatter\"},{\"line\":{\"color\":\"#4c72b0\",\"width\":0.75},\"x\":[0.32814574241638184,0.3569490611553192,null],\"y\":[0.1802838146686554,0.6898478269577026,null],\"type\":\"scatter\"},{\"marker\":{\"color\":[4,5,4,4,4,4,4],\"colorscale\":[[0.0,\"rgb(255,255,217)\"],[0.125,\"rgb(237,248,177)\"],[0.25,\"rgb(199,233,180)\"],[0.375,\"rgb(127,205,187)\"],[0.5,\"rgb(65,182,196)\"],[0.625,\"rgb(29,145,192)\"],[0.75,\"rgb(34,94,168)\"],[0.875,\"rgb(37,52,148)\"],[1.0,\"rgb(8,29,88)\"]],\"line\":{\"width\":2},\"reversescale\":true,\"size\":[50,70,50,50,50,50,50]},\"mode\":\"markers+text\",\"text\":[\"\\ubd80\\uad6d\\uc815\\ubc00\",\"\\uc815\\ubbfc\\uae30\\uc804\",\"\\ud0d1\\uc804\\uc790\",\"\\ud3ec\\uc2a4\\ud14d\",\"\\uc0c1\\uc2e0\\uc804\\uc790\",\"\\uc720\\ub2c8\\uc194\\ub809\",\"\\ub514\\uc5d8\\ud14c\\ud06c\"],\"textposition\":\"top center\",\"x\":[0.6234790086746216,0.16938163340091705,0.6615851521492004,0.3569490611553192,0.7498952150344849,0.27644118666648865,0.32814574241638184],\"y\":[0.8050630688667297,0.6604146957397461,0.01614898256957531,0.6898478269577026,0.16883276402950287,0.2627755105495453,0.1802838146686554],\"type\":\"scatter\"}],                        {\"margin\":{\"b\":20,\"l\":5,\"r\":5,\"t\":40},\"showlegend\":false,\"title\":{\"font\":{\"size\":16},\"text\":\"\\uc815\\ubbfc\\uae30\\uc804 vs all\"},\"xaxis\":{\"showgrid\":true,\"showticklabels\":false,\"zeroline\":false},\"yaxis\":{\"showgrid\":true,\"showticklabels\":false,\"zeroline\":false},\"template\":{\"data\":{\"histogram2dcontour\":[{\"type\":\"histogram2dcontour\",\"colorbar\":{\"outlinewidth\":0,\"ticks\":\"\"},\"colorscale\":[[0.0,\"#0d0887\"],[0.1111111111111111,\"#46039f\"],[0.2222222222222222,\"#7201a8\"],[0.3333333333333333,\"#9c179e\"],[0.4444444444444444,\"#bd3786\"],[0.5555555555555556,\"#d8576b\"],[0.6666666666666666,\"#ed7953\"],[0.7777777777777778,\"#fb9f3a\"],[0.8888888888888888,\"#fdca26\"],[1.0,\"#f0f921\"]]}],\"choropleth\":[{\"type\":\"choropleth\",\"colorbar\":{\"outlinewidth\":0,\"ticks\":\"\"}}],\"histogram2d\":[{\"type\":\"histogram2d\",\"colorbar\":{\"outlinewidth\":0,\"ticks\":\"\"},\"colorscale\":[[0.0,\"#0d0887\"],[0.1111111111111111,\"#46039f\"],[0.2222222222222222,\"#7201a8\"],[0.3333333333333333,\"#9c179e\"],[0.4444444444444444,\"#bd3786\"],[0.5555555555555556,\"#d8576b\"],[0.6666666666666666,\"#ed7953\"],[0.7777777777777778,\"#fb9f3a\"],[0.8888888888888888,\"#fdca26\"],[1.0,\"#f0f921\"]]}],\"heatmap\":[{\"type\":\"heatmap\",\"colorbar\":{\"outlinewidth\":0,\"ticks\":\"\"},\"colorscale\":[[0.0,\"#0d0887\"],[0.1111111111111111,\"#46039f\"],[0.2222222222222222,\"#7201a8\"],[0.3333333333333333,\"#9c179e\"],[0.4444444444444444,\"#bd3786\"],[0.5555555555555556,\"#d8576b\"],[0.6666666666666666,\"#ed7953\"],[0.7777777777777778,\"#fb9f3a\"],[0.8888888888888888,\"#fdca26\"],[1.0,\"#f0f921\"]]}],\"heatmapgl\":[{\"type\":\"heatmapgl\",\"colorbar\":{\"outlinewidth\":0,\"ticks\":\"\"},\"colorscale\":[[0.0,\"#0d0887\"],[0.1111111111111111,\"#46039f\"],[0.2222222222222222,\"#7201a8\"],[0.3333333333333333,\"#9c179e\"],[0.4444444444444444,\"#bd3786\"],[0.5555555555555556,\"#d8576b\"],[0.6666666666666666,\"#ed7953\"],[0.7777777777777778,\"#fb9f3a\"],[0.8888888888888888,\"#fdca26\"],[1.0,\"#f0f921\"]]}],\"contourcarpet\":[{\"type\":\"contourcarpet\",\"colorbar\":{\"outlinewidth\":0,\"ticks\":\"\"}}],\"contour\":[{\"type\":\"contour\",\"colorbar\":{\"outlinewidth\":0,\"ticks\":\"\"},\"colorscale\":[[0.0,\"#0d0887\"],[0.1111111111111111,\"#46039f\"],[0.2222222222222222,\"#7201a8\"],[0.3333333333333333,\"#9c179e\"],[0.4444444444444444,\"#bd3786\"],[0.5555555555555556,\"#d8576b\"],[0.6666666666666666,\"#ed7953\"],[0.7777777777777778,\"#fb9f3a\"],[0.8888888888888888,\"#fdca26\"],[1.0,\"#f0f921\"]]}],\"surface\":[{\"type\":\"surface\",\"colorbar\":{\"outlinewidth\":0,\"ticks\":\"\"},\"colorscale\":[[0.0,\"#0d0887\"],[0.1111111111111111,\"#46039f\"],[0.2222222222222222,\"#7201a8\"],[0.3333333333333333,\"#9c179e\"],[0.4444444444444444,\"#bd3786\"],[0.5555555555555556,\"#d8576b\"],[0.6666666666666666,\"#ed7953\"],[0.7777777777777778,\"#fb9f3a\"],[0.8888888888888888,\"#fdca26\"],[1.0,\"#f0f921\"]]}],\"mesh3d\":[{\"type\":\"mesh3d\",\"colorbar\":{\"outlinewidth\":0,\"ticks\":\"\"}}],\"scatter\":[{\"fillpattern\":{\"fillmode\":\"overlay\",\"size\":10,\"solidity\":0.2},\"type\":\"scatter\"}],\"parcoords\":[{\"type\":\"parcoords\",\"line\":{\"colorbar\":{\"outlinewidth\":0,\"ticks\":\"\"}}}],\"scatterpolargl\":[{\"type\":\"scatterpolargl\",\"marker\":{\"colorbar\":{\"outlinewidth\":0,\"ticks\":\"\"}}}],\"bar\":[{\"error_x\":{\"color\":\"#2a3f5f\"},\"error_y\":{\"color\":\"#2a3f5f\"},\"marker\":{\"line\":{\"color\":\"#E5ECF6\",\"width\":0.5},\"pattern\":{\"fillmode\":\"overlay\",\"size\":10,\"solidity\":0.2}},\"type\":\"bar\"}],\"scattergeo\":[{\"type\":\"scattergeo\",\"marker\":{\"colorbar\":{\"outlinewidth\":0,\"ticks\":\"\"}}}],\"scatterpolar\":[{\"type\":\"scatterpolar\",\"marker\":{\"colorbar\":{\"outlinewidth\":0,\"ticks\":\"\"}}}],\"histogram\":[{\"marker\":{\"pattern\":{\"fillmode\":\"overlay\",\"size\":10,\"solidity\":0.2}},\"type\":\"histogram\"}],\"scattergl\":[{\"type\":\"scattergl\",\"marker\":{\"colorbar\":{\"outlinewidth\":0,\"ticks\":\"\"}}}],\"scatter3d\":[{\"type\":\"scatter3d\",\"line\":{\"colorbar\":{\"outlinewidth\":0,\"ticks\":\"\"}},\"marker\":{\"colorbar\":{\"outlinewidth\":0,\"ticks\":\"\"}}}],\"scattermapbox\":[{\"type\":\"scattermapbox\",\"marker\":{\"colorbar\":{\"outlinewidth\":0,\"ticks\":\"\"}}}],\"scatterternary\":[{\"type\":\"scatterternary\",\"marker\":{\"colorbar\":{\"outlinewidth\":0,\"ticks\":\"\"}}}],\"scattercarpet\":[{\"type\":\"scattercarpet\",\"marker\":{\"colorbar\":{\"outlinewidth\":0,\"ticks\":\"\"}}}],\"carpet\":[{\"aaxis\":{\"endlinecolor\":\"#2a3f5f\",\"gridcolor\":\"white\",\"linecolor\":\"white\",\"minorgridcolor\":\"white\",\"startlinecolor\":\"#2a3f5f\"},\"baxis\":{\"endlinecolor\":\"#2a3f5f\",\"gridcolor\":\"white\",\"linecolor\":\"white\",\"minorgridcolor\":\"white\",\"startlinecolor\":\"#2a3f5f\"},\"type\":\"carpet\"}],\"table\":[{\"cells\":{\"fill\":{\"color\":\"#EBF0F8\"},\"line\":{\"color\":\"white\"}},\"header\":{\"fill\":{\"color\":\"#C8D4E3\"},\"line\":{\"color\":\"white\"}},\"type\":\"table\"}],\"barpolar\":[{\"marker\":{\"line\":{\"color\":\"#E5ECF6\",\"width\":0.5},\"pattern\":{\"fillmode\":\"overlay\",\"size\":10,\"solidity\":0.2}},\"type\":\"barpolar\"}],\"pie\":[{\"automargin\":true,\"type\":\"pie\"}]},\"layout\":{\"autotypenumbers\":\"strict\",\"colorway\":[\"#636efa\",\"#EF553B\",\"#00cc96\",\"#ab63fa\",\"#FFA15A\",\"#19d3f3\",\"#FF6692\",\"#B6E880\",\"#FF97FF\",\"#FECB52\"],\"font\":{\"color\":\"#2a3f5f\"},\"hovermode\":\"closest\",\"hoverlabel\":{\"align\":\"left\"},\"paper_bgcolor\":\"white\",\"plot_bgcolor\":\"#E5ECF6\",\"polar\":{\"bgcolor\":\"#E5ECF6\",\"angularaxis\":{\"gridcolor\":\"white\",\"linecolor\":\"white\",\"ticks\":\"\"},\"radialaxis\":{\"gridcolor\":\"white\",\"linecolor\":\"white\",\"ticks\":\"\"}},\"ternary\":{\"bgcolor\":\"#E5ECF6\",\"aaxis\":{\"gridcolor\":\"white\",\"linecolor\":\"white\",\"ticks\":\"\"},\"baxis\":{\"gridcolor\":\"white\",\"linecolor\":\"white\",\"ticks\":\"\"},\"caxis\":{\"gridcolor\":\"white\",\"linecolor\":\"white\",\"ticks\":\"\"}},\"coloraxis\":{\"colorbar\":{\"outlinewidth\":0,\"ticks\":\"\"}},\"colorscale\":{\"sequential\":[[0.0,\"#0d0887\"],[0.1111111111111111,\"#46039f\"],[0.2222222222222222,\"#7201a8\"],[0.3333333333333333,\"#9c179e\"],[0.4444444444444444,\"#bd3786\"],[0.5555555555555556,\"#d8576b\"],[0.6666666666666666,\"#ed7953\"],[0.7777777777777778,\"#fb9f3a\"],[0.8888888888888888,\"#fdca26\"],[1.0,\"#f0f921\"]],\"sequentialminus\":[[0.0,\"#0d0887\"],[0.1111111111111111,\"#46039f\"],[0.2222222222222222,\"#7201a8\"],[0.3333333333333333,\"#9c179e\"],[0.4444444444444444,\"#bd3786\"],[0.5555555555555556,\"#d8576b\"],[0.6666666666666666,\"#ed7953\"],[0.7777777777777778,\"#fb9f3a\"],[0.8888888888888888,\"#fdca26\"],[1.0,\"#f0f921\"]],\"diverging\":[[0,\"#8e0152\"],[0.1,\"#c51b7d\"],[0.2,\"#de77ae\"],[0.3,\"#f1b6da\"],[0.4,\"#fde0ef\"],[0.5,\"#f7f7f7\"],[0.6,\"#e6f5d0\"],[0.7,\"#b8e186\"],[0.8,\"#7fbc41\"],[0.9,\"#4d9221\"],[1,\"#276419\"]]},\"xaxis\":{\"gridcolor\":\"white\",\"linecolor\":\"white\",\"ticks\":\"\",\"title\":{\"standoff\":15},\"zerolinecolor\":\"white\",\"automargin\":true,\"zerolinewidth\":2},\"yaxis\":{\"gridcolor\":\"white\",\"linecolor\":\"white\",\"ticks\":\"\",\"title\":{\"standoff\":15},\"zerolinecolor\":\"white\",\"automargin\":true,\"zerolinewidth\":2},\"scene\":{\"xaxis\":{\"backgroundcolor\":\"#E5ECF6\",\"gridcolor\":\"white\",\"linecolor\":\"white\",\"showbackground\":true,\"ticks\":\"\",\"zerolinecolor\":\"white\",\"gridwidth\":2},\"yaxis\":{\"backgroundcolor\":\"#E5ECF6\",\"gridcolor\":\"white\",\"linecolor\":\"white\",\"showbackground\":true,\"ticks\":\"\",\"zerolinecolor\":\"white\",\"gridwidth\":2},\"zaxis\":{\"backgroundcolor\":\"#E5ECF6\",\"gridcolor\":\"white\",\"linecolor\":\"white\",\"showbackground\":true,\"ticks\":\"\",\"zerolinecolor\":\"white\",\"gridwidth\":2}},\"shapedefaults\":{\"line\":{\"color\":\"#2a3f5f\"}},\"annotationdefaults\":{\"arrowcolor\":\"#2a3f5f\",\"arrowhead\":0,\"arrowwidth\":1},\"geo\":{\"bgcolor\":\"white\",\"landcolor\":\"#E5ECF6\",\"subunitcolor\":\"white\",\"showland\":true,\"showlakes\":true,\"lakecolor\":\"white\"},\"title\":{\"x\":0.05},\"mapbox\":{\"style\":\"light\"}}},\"annotations\":[{\"arrowhead\":3,\"arrowsize\":1.7999999999999998,\"ax\":0.6234790086746216,\"axref\":\"x\",\"ay\":0.8050630688667297,\"ayref\":\"y\",\"showarrow\":true,\"x\":0.23749623969197275,\"xref\":\"x\",\"y\":0.6821119517087937,\"yref\":\"y\"},{\"arrowhead\":3,\"arrowsize\":2.25,\"ax\":0.16938163340091705,\"axref\":\"x\",\"ay\":0.6604146957397461,\"ayref\":\"y\",\"showarrow\":true,\"x\":0.3288139469921589,\"xref\":\"x\",\"y\":0.6854328572750091,\"yref\":\"y\"},{\"arrowhead\":3,\"arrowsize\":3.15,\"ax\":0.6615851521492004,\"axref\":\"x\",\"ay\":0.01614898256957531,\"ayref\":\"y\",\"showarrow\":true,\"x\":0.24321216121315958,\"xref\":\"x\",\"y\":0.5637748387642205,\"yref\":\"y\"},{\"arrowhead\":3,\"arrowsize\":2.6999999999999997,\"ax\":0.3569490611553192,\"axref\":\"x\",\"ay\":0.6898478269577026,\"ayref\":\"y\",\"showarrow\":true,\"x\":0.1975167475640774,\"xref\":\"x\",\"y\":0.6648296654224396,\"yref\":\"y\"},{\"arrowhead\":3,\"arrowsize\":1.3499999999999999,\"ax\":0.7498952150344849,\"axref\":\"x\",\"ay\":0.16883276402950287,\"ayref\":\"y\",\"showarrow\":true,\"x\":0.25645867064595224,\"xref\":\"x\",\"y\":0.5866774059832096,\"yref\":\"y\"},{\"arrowhead\":3,\"arrowsize\":0.8999999999999999,\"ax\":0.27644118666648865,\"axref\":\"x\",\"ay\":0.2627755105495453,\"ayref\":\"y\",\"showarrow\":true,\"x\":0.3448728799819946,\"xref\":\"x\",\"y\":0.625786979496479,\"yref\":\"y\"},{\"arrowhead\":3,\"arrowsize\":0.44999999999999996,\"ax\":0.32814574241638184,\"axref\":\"x\",\"ay\":0.1802838146686554,\"ayref\":\"y\",\"showarrow\":true,\"x\":0.35262856334447856,\"xref\":\"x\",\"y\":0.6134132251143455,\"yref\":\"y\"}]},                        {\"responsive\": true}                    ).then(function(){\n",
       "                            \n",
       "var gd = document.getElementById('b53b84d0-50a0-409a-8010-210c53abd6b6');\n",
       "var x = new MutationObserver(function (mutations, observer) {{\n",
       "        var display = window.getComputedStyle(gd).display;\n",
       "        if (!display || display === 'none') {{\n",
       "            console.log([gd, 'removed!']);\n",
       "            Plotly.purge(gd);\n",
       "            observer.disconnect();\n",
       "        }}\n",
       "}});\n",
       "\n",
       "// Listen for the removal of the full notebook cells\n",
       "var notebookContainer = gd.closest('#notebook-container');\n",
       "if (notebookContainer) {{\n",
       "    x.observe(notebookContainer, {childList: true});\n",
       "}}\n",
       "\n",
       "// Listen for the clearing of the current output cell\n",
       "var outputEl = gd.closest('.output');\n",
       "if (outputEl) {{\n",
       "    x.observe(outputEl, {childList: true});\n",
       "}}\n",
       "\n",
       "                        })                };                });            </script>        </div>"
      ]
     },
     "metadata": {},
     "output_type": "display_data"
    }
   ],
   "source": [
    "fig = go.Figure(\n",
    "            data= [*edge_traces , node_trace],\n",
    "             layout=go.Layout(\n",
    "                title='정민기전 vs all',\n",
    "                titlefont_size=16,\n",
    "                                showlegend=False,\n",
    "                margin=dict(b=20,l=5,r=5,t=40),\n",
    "                xaxis=dict(showgrid=True, zeroline=False, showticklabels=False),\n",
    "                yaxis=dict(showgrid=True, zeroline=False, showticklabels=False)),\n",
    "                )\n",
    "\n",
    "fig.update_layout(\n",
    "    annotations = annotation_list\n",
    ")\n",
    "\n",
    "fig.show()"
   ]
  },
  {
   "cell_type": "code",
   "execution_count": null,
   "metadata": {},
   "outputs": [],
   "source": []
  }
 ],
 "metadata": {
  "kernelspec": {
   "display_name": "Python 3 (ipykernel)",
   "language": "python",
   "name": "python3"
  },
  "language_info": {
   "codemirror_mode": {
    "name": "ipython",
    "version": 3
   },
   "file_extension": ".py",
   "mimetype": "text/x-python",
   "name": "python",
   "nbconvert_exporter": "python",
   "pygments_lexer": "ipython3",
   "version": "3.9.12"
  }
 },
 "nbformat": 4,
 "nbformat_minor": 1
}