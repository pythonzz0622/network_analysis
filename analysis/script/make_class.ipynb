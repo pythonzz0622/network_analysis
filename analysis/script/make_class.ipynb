{
 "cells": [
  {
   "cell_type": "code",
   "execution_count": 5,
   "metadata": {
    "pycharm": {
     "name": "#%%\n"
    }
   },
   "outputs": [],
   "source": [
    "import utils.plot as plot\n",
    "import plotly.graph_objects as go\n",
    "import networkx as nx\n",
    "import igviz as ig\n",
    "import numpy as np\n",
    "import warnings\n",
    "warnings.filterwarnings(action='ignore')"
   ]
  },
  {
   "cell_type": "code",
   "execution_count": 6,
   "metadata": {
    "pycharm": {
     "name": "#%%\n"
    }
   },
   "outputs": [],
   "source": [
    "raw = plot.preprocessing('../data/다시최종_경남2.xlsx' , b_a = '1.IT제조' , b_a_2 = '1.IT제조' , loc='실험')"
   ]
  },
  {
   "cell_type": "code",
   "execution_count": null,
   "outputs": [],
   "source": [
    "obj =plot.graph_top5(raw , type = 4)\n",
    "\n",
    "obj.top_5_plot()"
   ],
   "metadata": {
    "collapsed": false,
    "pycharm": {
     "name": "#%%\n"
    }
   }
  },
  {
   "cell_type": "code",
   "execution_count": null,
   "outputs": [],
   "source": [
    "obj =plot.graph_top5(raw , type = 1)\n",
    "obj.normal_plot(obj.cnt)\n",
    "\n",
    "obj =plot.graph_top5(raw , type = 2)\n",
    "obj.normal_plot(obj.cnt)\n",
    "\n",
    "obj =plot.graph_top5(raw , type = 3)\n",
    "obj.normal_plot(obj.cnt)"
   ],
   "metadata": {
    "collapsed": false,
    "pycharm": {
     "name": "#%%\n"
    }
   }
  }
 ],
 "metadata": {
  "kernelspec": {
   "display_name": "Python 3 (ipykernel)",
   "language": "python",
   "name": "python3"
  },
  "language_info": {
   "codemirror_mode": {
    "name": "ipython",
    "version": 3
   },
   "file_extension": ".py",
   "mimetype": "text/x-python",
   "name": "python",
   "nbconvert_exporter": "python",
   "pygments_lexer": "ipython3",
   "version": "3.9.12"
  }
 },
 "nbformat": 4,
 "nbformat_minor": 1
}